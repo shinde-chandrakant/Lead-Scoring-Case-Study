{
  "nbformat": 4,
  "nbformat_minor": 0,
  "metadata": {
    "colab": {
      "provenance": [],
      "authorship_tag": "ABX9TyPnbBC4vBv82uxE8uMo8nZ7",
      "include_colab_link": true
    },
    "kernelspec": {
      "name": "python3",
      "display_name": "Python 3"
    },
    "language_info": {
      "name": "python"
    }
  },
  "cells": [
    {
      "cell_type": "markdown",
      "metadata": {
        "id": "view-in-github",
        "colab_type": "text"
      },
      "source": [
        "<a href=\"https://colab.research.google.com/github/shinde-chandrakant/Lead-Scoring-Case-Study/blob/master/LeadScoring.ipynb\" target=\"_parent\"><img src=\"https://colab.research.google.com/assets/colab-badge.svg\" alt=\"Open In Colab\"/></a>"
      ]
    },
    {
      "cell_type": "markdown",
      "source": [
        "## Problem Statement:\n",
        "\n",
        "<p align=\"justify\">X Education is an education company that offers online courses for industry professionals. The company attracts many visitors to its website through various marketing channels, such as websites, search engines, and referrals. Some of these visitors fill out a form with their contact information and become leads for the company. The sales team then tries to convert these leads into customers by calling them, emailing them, etc. However, the company faces a problem: its lead conversion rate is very low. Out of 100 leads, only 30 become customers on average. This means that the sales team is wasting a lot of time and resources on leads that are not interested or ready to buy.</p>\n",
        "\n",
        "<p align=\"justify\">To solve this problem, X Education wants to identify the most potential leads, also known as 'Hot Leads'. These are the leads that have a high probability of becoming customers. By focusing on these leads, the company hopes to increase its lead conversion rate and improve its efficiency. The company has hired you to help them with this task. Your job is to build a model that can assign a lead score to each lead based on various factors, such as their demographics, behavior, preferences, etc. The higher the lead score, the more likely the lead is to convert. The lower the lead score, the less likely the lead is to convert. The company's CEO has set a target of achieving an 80% lead conversion rate with this model.</p>"
      ],
      "metadata": {
        "id": "dZjkUmgtA8fK"
      }
    },
    {
      "cell_type": "markdown",
      "source": [
        "## Steps Followed  \n",
        "- Reading Data\n",
        "- Cleaning Data\n",
        "- EDA\n",
        "- Creating Dummy features\n",
        "- Splitting Data into Train-Test set\n",
        "- Builiding Model\n",
        "- Making Predictions\n",
        "- Model Evaluations\n",
        "- ROC Curve\n",
        "- Prediction on test set\n",
        "- Precision-Recall"
      ],
      "metadata": {
        "id": "_oINYuwHCNwQ"
      }
    },
    {
      "cell_type": "code",
      "execution_count": null,
      "metadata": {
        "id": "jCYLTXoiA1aN"
      },
      "outputs": [],
      "source": []
    }
  ]
}